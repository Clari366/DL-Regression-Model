{
 "cells": [
  {
   "cell_type": "code",
   "execution_count": null,
   "id": "772ca838-6c84-42c5-9c29-5240436293a8",
   "metadata": {},
   "outputs": [],
   "source": []
  }
 ],
 "metadata": {
  "kernelspec": {
   "display_name": "",
   "name": ""
  },
  "language_info": {
   "name": ""
  }
 },
 "nbformat": 4,
 "nbformat_minor": 5
}
